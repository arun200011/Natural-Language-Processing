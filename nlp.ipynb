{
 "cells": [
  {
   "cell_type": "markdown",
   "metadata": {
    "id": "-U6TRWnSbOvs"
   },
   "source": [
    "# **2. Core Text Processing and Tool Comparison (15%)**"
   ]
  },
  {
   "cell_type": "markdown",
   "metadata": {},
   "source": [
    "**a.Dataset**"
   ]
  },
  {
   "cell_type": "code",
   "execution_count": 1,
   "metadata": {
    "id": "f1cSBUzUTZPZ"
   },
   "outputs": [
    {
     "name": "stderr",
     "output_type": "stream",
     "text": [
      "D:\\Anaconda\\lib\\site-packages\\pandas\\core\\computation\\expressions.py:21: UserWarning: Pandas requires version '2.8.4' or newer of 'numexpr' (version '2.8.1' currently installed).\n",
      "  from pandas.core.computation.check import NUMEXPR_INSTALLED\n",
      "D:\\Anaconda\\lib\\site-packages\\pandas\\core\\arrays\\masked.py:60: UserWarning: Pandas requires version '1.3.6' or newer of 'bottleneck' (version '1.3.4' currently installed).\n",
      "  from pandas.core import (\n"
     ]
    }
   ],
   "source": [
    "import pandas as pd\n",
    "\n",
    "data = {\n",
    "    \"review\": [\n",
    "        \"I absolutely love this new phone!\",\n",
    "        \"The battery life could be better.\",\n",
    "        \"Amazing camera and display quality.\",\n",
    "        \"This phone is terrible — laggy and slow.\",\n",
    "        \"I’m not impressed with the performance.\",\n",
    "        \"Great value for the price.\",\n",
    "        \"The updates keep causing issues.\",\n",
    "        \"Excellent design, but it overheats quickly.\",\n",
    "        \"Would not recommend to a friend.\",\n",
    "        \"Fast and responsive under heavy use.\"\n",
    "    ]\n",
    "}\n",
    "\n",
    "df = pd.DataFrame(data)"
   ]
  },
  {
   "cell_type": "markdown",
   "metadata": {
    "id": "uBphr22_Yfh6"
   },
   "source": [
    "**b. Apply Techniques: NLTK vs SpaCy**"
   ]
  },
  {
   "cell_type": "markdown",
   "metadata": {
    "id": "gH7Lrd-yYjwQ"
   },
   "source": [
    "NLTK"
   ]
  },
  {
   "cell_type": "code",
   "execution_count": 2,
   "metadata": {
    "colab": {
     "base_uri": "https://localhost:8080/"
    },
    "id": "P0u2iUH9YlVH",
    "outputId": "48c3fec5-9a8f-4b0c-c56f-be5cde6b7b22"
   },
   "outputs": [
    {
     "name": "stderr",
     "output_type": "stream",
     "text": [
      "[nltk_data] Downloading package punkt to\n",
      "[nltk_data]     C:\\Users\\arunr\\AppData\\Roaming\\nltk_data...\n",
      "[nltk_data]   Package punkt is already up-to-date!\n",
      "[nltk_data] Downloading package wordnet to\n",
      "[nltk_data]     C:\\Users\\arunr\\AppData\\Roaming\\nltk_data...\n",
      "[nltk_data]   Package wordnet is already up-to-date!\n",
      "[nltk_data] Downloading package omw-1.4 to\n",
      "[nltk_data]     C:\\Users\\arunr\\AppData\\Roaming\\nltk_data...\n",
      "[nltk_data]   Package omw-1.4 is already up-to-date!\n",
      "[nltk_data] Downloading package punkt_tab to\n",
      "[nltk_data]     C:\\Users\\arunr\\AppData\\Roaming\\nltk_data...\n",
      "[nltk_data]   Package punkt_tab is already up-to-date!\n"
     ]
    }
   ],
   "source": [
    "# Re-download required NLTK data\n",
    "import nltk\n",
    "nltk.download('punkt')\n",
    "nltk.download('wordnet')\n",
    "nltk.download('omw-1.4')\n",
    "# Download the missing 'punkt_tab' resource\n",
    "nltk.download('punkt_tab')\n",
    "\n",
    "from nltk.tokenize import word_tokenize\n",
    "from nltk.stem import PorterStemmer, WordNetLemmatizer\n",
    "\n",
    "stemmer = PorterStemmer()\n",
    "lemmatizer = WordNetLemmatizer()\n",
    "\n",
    "# Apply tokenization, stemming, lemmatization\n",
    "df[\"tokens_nltk\"] = df[\"review\"].apply(word_tokenize)\n",
    "df[\"stemmed_nltk\"] = df[\"tokens_nltk\"].apply(lambda tokens: [stemmer.stem(w) for w in tokens])\n",
    "df[\"lemmatized_nltk\"] = df[\"tokens_nltk\"].apply(lambda tokens: [lemmatizer.lemmatize(w) for w in tokens])"
   ]
  },
  {
   "cell_type": "markdown",
   "metadata": {
    "id": "J9mPjaq6Yqz8"
   },
   "source": [
    "SpaCy"
   ]
  },
  {
   "cell_type": "code",
   "execution_count": 3,
   "metadata": {
    "id": "EPJtRMZaYrZq"
   },
   "outputs": [],
   "source": [
    "import spacy\n",
    "nlp = spacy.load(\"en_core_web_sm\")\n",
    "\n",
    "def spacy_pipeline(text):\n",
    "    doc = nlp(text)\n",
    "    return {\n",
    "        \"tokens\": [token.text for token in doc],\n",
    "        \"lemmas\": [token.lemma_ for token in doc]\n",
    "    }\n",
    "\n",
    "df[\"spacy_results\"] = df[\"review\"].apply(spacy_pipeline)\n",
    "df[\"tokens_spacy\"] = df[\"spacy_results\"].apply(lambda x: x[\"tokens\"])\n",
    "df[\"lemmatized_spacy\"] = df[\"spacy_results\"].apply(lambda x: x[\"lemmas\"])"
   ]
  },
  {
   "cell_type": "markdown",
   "metadata": {
    "id": "mZSdF6kbYt9F"
   },
   "source": [
    "**c. Visualize Results**"
   ]
  },
  {
   "cell_type": "code",
   "execution_count": 4,
   "metadata": {
    "colab": {
     "base_uri": "https://localhost:8080/",
     "height": 507
    },
    "id": "quIOjyI2Yv2B",
    "outputId": "04e8bcfa-fd41-4c5f-e38a-6dd07aa6fcce"
   },
   "outputs": [
    {
     "data": {
      "image/png": "[encoded data removed]",
      "text/plain": [
       "<Figure size 720x360 with 1 Axes>"
      ]
     },
     "metadata": {
      "needs_background": "light"
     },
     "output_type": "display_data"
    }
   ],
   "source": [
    "import matplotlib.pyplot as plt\n",
    "from collections import Counter\n",
    "\n",
    "top_n = 15\n",
    "\n",
    "# Flatten the list of lists of tokens from the 'lemmatized_spacy' column\n",
    "all_spacy_tokens = [token for sublist in df['lemmatized_spacy'] for token in sublist]\n",
    "\n",
    "# Calculate the frequency of each token\n",
    "freq_spacy = Counter(all_spacy_tokens)\n",
    "\n",
    "most_common = freq_spacy.most_common(top_n)\n",
    "tokens, counts = zip(*most_common)\n",
    "\n",
    "plt.figure(figsize=(10, 5))\n",
    "plt.bar(tokens, counts)\n",
    "plt.title(f\"Top {top_n} Token Frequencies (SpaCy)\")\n",
    "plt.xticks(rotation=45, ha='right')\n",
    "plt.tight_layout()\n",
    "plt.show()"
   ]
  },
  {
   "cell_type": "code",
   "execution_count": 5,
   "metadata": {
    "colab": {
     "base_uri": "https://localhost:8080/",
     "height": 293
    },
    "id": "T_1Q43YQZ0oI",
    "outputId": "85f06cc7-5251-47fa-e7e2-ec397bfa599e"
   },
   "outputs": [
    {
     "data": {
      "text/html": [
       "<div>\n",
       "<style scoped>\n",
       "    .dataframe tbody tr th:only-of-type {\n",
       "        vertical-align: middle;\n",
       "    }\n",
       "\n",
       "    .dataframe tbody tr th {\n",
       "        vertical-align: top;\n",
       "    }\n",
       "\n",
       "    .dataframe thead th {\n",
       "        text-align: right;\n",
       "    }\n",
       "</style>\n",
       "<table border=\"1\" class=\"dataframe\">\n",
       "  <thead>\n",
       "    <tr style=\"text-align: right;\">\n",
       "      <th></th>\n",
       "      <th>review</th>\n",
       "      <th>tokens_nltk</th>\n",
       "      <th>stemmed_nltk</th>\n",
       "      <th>lemmatized_nltk</th>\n",
       "      <th>tokens_spacy</th>\n",
       "      <th>lemmatized_spacy</th>\n",
       "    </tr>\n",
       "  </thead>\n",
       "  <tbody>\n",
       "    <tr>\n",
       "      <th>0</th>\n",
       "      <td>I absolutely love this new phone!</td>\n",
       "      <td>[I, absolutely, love, this, new, phone, !]</td>\n",
       "      <td>[i, absolut, love, thi, new, phone, !]</td>\n",
       "      <td>[I, absolutely, love, this, new, phone, !]</td>\n",
       "      <td>[I, absolutely, love, this, new, phone, !]</td>\n",
       "      <td>[I, absolutely, love, this, new, phone, !]</td>\n",
       "    </tr>\n",
       "    <tr>\n",
       "      <th>1</th>\n",
       "      <td>The battery life could be better.</td>\n",
       "      <td>[The, battery, life, could, be, better, .]</td>\n",
       "      <td>[the, batteri, life, could, be, better, .]</td>\n",
       "      <td>[The, battery, life, could, be, better, .]</td>\n",
       "      <td>[The, battery, life, could, be, better, .]</td>\n",
       "      <td>[the, battery, life, could, be, well, .]</td>\n",
       "    </tr>\n",
       "    <tr>\n",
       "      <th>2</th>\n",
       "      <td>Amazing camera and display quality.</td>\n",
       "      <td>[Amazing, camera, and, display, quality, .]</td>\n",
       "      <td>[amaz, camera, and, display, qualiti, .]</td>\n",
       "      <td>[Amazing, camera, and, display, quality, .]</td>\n",
       "      <td>[Amazing, camera, and, display, quality, .]</td>\n",
       "      <td>[amazing, camera, and, display, quality, .]</td>\n",
       "    </tr>\n",
       "    <tr>\n",
       "      <th>3</th>\n",
       "      <td>This phone is terrible — laggy and slow.</td>\n",
       "      <td>[This, phone, is, terrible, —, laggy, and, slo...</td>\n",
       "      <td>[thi, phone, is, terribl, —, laggi, and, slow, .]</td>\n",
       "      <td>[This, phone, is, terrible, —, laggy, and, slo...</td>\n",
       "      <td>[This, phone, is, terrible, —, laggy, and, slo...</td>\n",
       "      <td>[this, phone, be, terrible, —, laggy, and, slo...</td>\n",
       "    </tr>\n",
       "    <tr>\n",
       "      <th>4</th>\n",
       "      <td>I’m not impressed with the performance.</td>\n",
       "      <td>[I, ’, m, not, impressed, with, the, performan...</td>\n",
       "      <td>[i, ’, m, not, impress, with, the, perform, .]</td>\n",
       "      <td>[I, ’, m, not, impressed, with, the, performan...</td>\n",
       "      <td>[I, ’m, not, impressed, with, the, performance...</td>\n",
       "      <td>[I, be, not, impressed, with, the, performance...</td>\n",
       "    </tr>\n",
       "  </tbody>\n",
       "</table>\n",
       "</div>"
      ],
      "text/plain": [
       "                                     review  \\\n",
       "0         I absolutely love this new phone!   \n",
       "1         The battery life could be better.   \n",
       "2       Amazing camera and display quality.   \n",
       "3  This phone is terrible — laggy and slow.   \n",
       "4   I’m not impressed with the performance.   \n",
       "\n",
       "                                         tokens_nltk  \\\n",
       "0         [I, absolutely, love, this, new, phone, !]   \n",
       "1         [The, battery, life, could, be, better, .]   \n",
       "2        [Amazing, camera, and, display, quality, .]   \n",
       "3  [This, phone, is, terrible, —, laggy, and, slo...   \n",
       "4  [I, ’, m, not, impressed, with, the, performan...   \n",
       "\n",
       "                                        stemmed_nltk  \\\n",
       "0             [i, absolut, love, thi, new, phone, !]   \n",
       "1         [the, batteri, life, could, be, better, .]   \n",
       "2           [amaz, camera, and, display, qualiti, .]   \n",
       "3  [thi, phone, is, terribl, —, laggi, and, slow, .]   \n",
       "4     [i, ’, m, not, impress, with, the, perform, .]   \n",
       "\n",
       "                                     lemmatized_nltk  \\\n",
       "0         [I, absolutely, love, this, new, phone, !]   \n",
       "1         [The, battery, life, could, be, better, .]   \n",
       "2        [Amazing, camera, and, display, quality, .]   \n",
       "3  [This, phone, is, terrible, —, laggy, and, slo...   \n",
       "4  [I, ’, m, not, impressed, with, the, performan...   \n",
       "\n",
       "                                        tokens_spacy  \\\n",
       "0         [I, absolutely, love, this, new, phone, !]   \n",
       "1         [The, battery, life, could, be, better, .]   \n",
       "2        [Amazing, camera, and, display, quality, .]   \n",
       "3  [This, phone, is, terrible, —, laggy, and, slo...   \n",
       "4  [I, ’m, not, impressed, with, the, performance...   \n",
       "\n",
       "                                    lemmatized_spacy  \n",
       "0         [I, absolutely, love, this, new, phone, !]  \n",
       "1           [the, battery, life, could, be, well, .]  \n",
       "2        [amazing, camera, and, display, quality, .]  \n",
       "3  [this, phone, be, terrible, —, laggy, and, slo...  \n",
       "4  [I, be, not, impressed, with, the, performance...  "
      ]
     },
     "execution_count": 5,
     "metadata": {},
     "output_type": "execute_result"
    }
   ],
   "source": [
    "# Create side-by-side view of outputs\n",
    "comparison_df = df[[\"review\", \"tokens_nltk\", \"stemmed_nltk\", \"lemmatized_nltk\", \"tokens_spacy\", \"lemmatized_spacy\"]]\n",
    "comparison_df.head()"
   ]
  },
  {
   "cell_type": "markdown",
   "metadata": {
    "id": "sR6_woHZbSKG"
   },
   "source": [
    "# **3. Named Entity Recognition & Sentiment Analysis (20%)**"
   ]
  },
  {
   "cell_type": "markdown",
   "metadata": {
    "id": "5Id_OMwjbpfr"
   },
   "source": [
    "**a. NER Task: Setup NER pipeline using dslim/bert-base-NER**"
   ]
  },
  {
   "cell_type": "code",
   "execution_count": 6,
   "metadata": {
    "colab": {
     "base_uri": "https://localhost:8080/"
    },
    "id": "ay9t-lGSbnn1",
    "outputId": "9101ebdc-8ab7-47c8-c26f-e545e85f8508"
   },
   "outputs": [
    {
     "name": "stdout",
     "output_type": "stream",
     "text": [
      "WARNING:tensorflow:From D:\\Anaconda\\lib\\site-packages\\tf_keras\\src\\losses.py:2976: The name tf.losses.sparse_softmax_cross_entropy is deprecated. Please use tf.compat.v1.losses.sparse_softmax_cross_entropy instead.\n",
      "\n"
     ]
    },
    {
     "name": "stderr",
     "output_type": "stream",
     "text": [
      "Some weights of the model checkpoint at dslim/bert-base-NER were not used when initializing BertForTokenClassification: ['bert.pooler.dense.bias', 'bert.pooler.dense.weight']\n",
      "- This IS expected if you are initializing BertForTokenClassification from the checkpoint of a model trained on another task or with another architecture (e.g. initializing a BertForSequenceClassification model from a BertForPreTraining model).\n",
      "- This IS NOT expected if you are initializing BertForTokenClassification from the checkpoint of a model that you expect to be exactly identical (initializing a BertForSequenceClassification model from a BertForSequenceClassification model).\n",
      "Device set to use cpu\n"
     ]
    }
   ],
   "source": [
    "from transformers import pipeline\n",
    "ner_model = pipeline(\"ner\", model=\"dslim/bert-base-NER\", aggregation_strategy=\"simple\")"
   ]
  },
  {
   "cell_type": "code",
   "execution_count": 7,
   "metadata": {
    "id": "-bUWt4wpbZG1"
   },
   "outputs": [],
   "source": [
    "sentences_ner = [\n",
    "    \"Apple Inc. was founded by Steve Jobs in Cupertino.\",\n",
    "    \"Barack Obama was the 44th President of the United States.\",\n",
    "    \"The Eiffel Tower is located in Paris, France.\",\n",
    "    \"Google's headquarters are in Mountain View.\",\n",
    "    \"Elon Musk announced new Tesla models yesterday.\",\n",
    "    \"Amazon employs thousands of people worldwide.\",\n",
    "    \"The United Nations held a conference in New York.\",\n",
    "    \"Tesla's stock price surged after the announcement.\",\n",
    "    \"Bill Gates donated millions to charity.\",\n",
    "    \"Microsoft launched a new Surface device in Seattle.\"\n",
    "]\n",
    "# Get entities for each sentence\n",
    "entities_per_sentence = [ner_model(sentence) for sentence in sentences_ner]"
   ]
  },
  {
   "cell_type": "markdown",
   "metadata": {
    "id": "FYPsBOtzb1oe"
   },
   "source": [
    "**b. Sentiment Analysis: Setup sentiment analysis pipeline**"
   ]
  },
  {
   "cell_type": "code",
   "execution_count": 8,
   "metadata": {
    "colab": {
     "base_uri": "https://localhost:8080/"
    },
    "id": "xtK_vlskbzzk",
    "outputId": "ba24f70f-12c0-4669-f944-bd77cd0cebd9"
   },
   "outputs": [
    {
     "name": "stderr",
     "output_type": "stream",
     "text": [
      "No model was supplied, defaulted to distilbert/distilbert-base-uncased-finetuned-sst-2-english and revision 714eb0f (https://huggingface.co/distilbert/distilbert-base-uncased-finetuned-sst-2-english).\n",
      "Using a pipeline without specifying a model name and revision in production is not recommended.\n",
      "Device set to use cpu\n"
     ]
    }
   ],
   "source": [
    "sentiment_model = pipeline(\"sentiment-analysis\")\n",
    "\n",
    "# Sample Amazon product reviews for sentiment analysis\n",
    "reviews = [\n",
    "    \"This phone has an amazing camera and battery life.\",\n",
    "    \"Terrible customer service, very disappointed.\",\n",
    "    \"The laptop is fast and lightweight, highly recommend it!\",\n",
    "    \"Poor build quality, it broke within a month.\",\n",
    "    \"Excellent sound quality, great value for money.\",\n",
    "    \"The product arrived late and was damaged.\",\n",
    "    \"Love this blender, it works perfectly every time.\",\n",
    "    \"Not worth the price, very cheap materials.\",\n",
    "    \"Fantastic TV with stunning display.\",\n",
    "    \"Battery drains quickly, not happy with the purchase.\"\n",
    "]\n",
    "# Get sentiment for each review\n",
    "sentiments = sentiment_model(reviews)"
   ]
  },
  {
   "cell_type": "markdown",
   "metadata": {
    "id": "jqxt82zSb_Jj"
   },
   "source": [
    "**c. Print results: NER entities and sentiment analysis**"
   ]
  },
  {
   "cell_type": "code",
   "execution_count": 9,
   "metadata": {
    "colab": {
     "base_uri": "https://localhost:8080/"
    },
    "id": "vbAR06Qib9Qz",
    "outputId": "0fa5ee57-5c20-4f1a-f54e-6262e1a98cc1"
   },
   "outputs": [
    {
     "name": "stdout",
     "output_type": "stream",
     "text": [
      "=== Named Entity Recognition Results ===\n",
      "Sentence: Apple Inc. was founded by Steve Jobs in Cupertino.\n",
      "  Entity: Apple Inc, Type: ORG, Score: 0.999\n",
      "  Entity: Steve Jobs, Type: PER, Score: 0.984\n",
      "  Entity: Cupertino, Type: LOC, Score: 0.998\n",
      "\n",
      "Sentence: Barack Obama was the 44th President of the United States.\n",
      "  Entity: Barack Obama, Type: PER, Score: 1.000\n",
      "  Entity: United States, Type: LOC, Score: 1.000\n",
      "\n",
      "Sentence: The Eiffel Tower is located in Paris, France.\n",
      "  Entity: E, Type: LOC, Score: 0.966\n",
      "  Entity: ##iff, Type: LOC, Score: 0.499\n",
      "  Entity: ##el Tower, Type: LOC, Score: 0.927\n",
      "  Entity: Paris, Type: LOC, Score: 0.999\n",
      "  Entity: France, Type: LOC, Score: 0.999\n",
      "\n",
      "Sentence: Google's headquarters are in Mountain View.\n",
      "  Entity: Google, Type: ORG, Score: 0.999\n",
      "  Entity: Mountain View, Type: LOC, Score: 0.997\n",
      "\n",
      "Sentence: Elon Musk announced new Tesla models yesterday.\n",
      "  Entity: Elon Musk, Type: ORG, Score: 0.996\n",
      "  Entity: Tesla, Type: MISC, Score: 0.775\n",
      "\n",
      "Sentence: Amazon employs thousands of people worldwide.\n",
      "  Entity: Amazon, Type: LOC, Score: 0.994\n",
      "\n",
      "Sentence: The United Nations held a conference in New York.\n",
      "  Entity: United Nations, Type: ORG, Score: 0.999\n",
      "  Entity: New York, Type: LOC, Score: 0.999\n",
      "\n",
      "Sentence: Tesla's stock price surged after the announcement.\n",
      "  Entity: Tesla, Type: ORG, Score: 0.943\n",
      "\n",
      "Sentence: Bill Gates donated millions to charity.\n",
      "  Entity: Bill Gates, Type: PER, Score: 1.000\n",
      "\n",
      "Sentence: Microsoft launched a new Surface device in Seattle.\n",
      "  Entity: Microsoft, Type: ORG, Score: 0.998\n",
      "  Entity: Surface, Type: MISC, Score: 0.771\n",
      "  Entity: Seattle, Type: LOC, Score: 0.998\n",
      "\n",
      "\n",
      "=== Sentiment Analysis Results ===\n",
      "Review: This phone has an amazing camera and battery life.\n",
      "  Sentiment: POSITIVE, Score: 1.000\n",
      "\n",
      "Review: Terrible customer service, very disappointed.\n",
      "  Sentiment: NEGATIVE, Score: 1.000\n",
      "\n",
      "Review: The laptop is fast and lightweight, highly recommend it!\n",
      "  Sentiment: POSITIVE, Score: 1.000\n",
      "\n",
      "Review: Poor build quality, it broke within a month.\n",
      "  Sentiment: NEGATIVE, Score: 0.999\n",
      "\n",
      "Review: Excellent sound quality, great value for money.\n",
      "  Sentiment: POSITIVE, Score: 1.000\n",
      "\n",
      "Review: The product arrived late and was damaged.\n",
      "  Sentiment: NEGATIVE, Score: 1.000\n",
      "\n",
      "Review: Love this blender, it works perfectly every time.\n",
      "  Sentiment: POSITIVE, Score: 1.000\n",
      "\n",
      "Review: Not worth the price, very cheap materials.\n",
      "  Sentiment: NEGATIVE, Score: 1.000\n",
      "\n",
      "Review: Fantastic TV with stunning display.\n",
      "  Sentiment: POSITIVE, Score: 1.000\n",
      "\n",
      "Review: Battery drains quickly, not happy with the purchase.\n",
      "  Sentiment: NEGATIVE, Score: 0.999\n",
      "\n"
     ]
    }
   ],
   "source": [
    "print(\"=== Named Entity Recognition Results ===\")\n",
    "for i, sentence in enumerate(sentences_ner):\n",
    "    print(f\"Sentence: {sentence}\")\n",
    "    for ent in entities_per_sentence[i]:\n",
    "        print(f\"  Entity: {ent['word']}, Type: {ent['entity_group']}, Score: {ent['score']:.3f}\")\n",
    "    print()\n",
    "\n",
    "print(\"\\n=== Sentiment Analysis Results ===\")\n",
    "for review, sentiment in zip(reviews, sentiments):\n",
    "    print(f\"Review: {review}\")\n",
    "    print(f\"  Sentiment: {sentiment['label']}, Score: {sentiment['score']:.3f}\")\n",
    "    print()"
   ]
  },
  {
   "cell_type": "markdown",
   "metadata": {
    "id": "jkDYUo7McXMi"
   },
   "source": [
    "**Visualization of Sentiment Analysis**"
   ]
  },
  {
   "cell_type": "code",
   "execution_count": 10,
   "metadata": {
    "colab": {
     "base_uri": "https://localhost:8080/",
     "height": 521
    },
    "id": "xp4iWu-EcVLb",
    "outputId": "5ff45351-0ed4-44ea-bf88-db82022f178b"
   },
   "outputs": [
    {
     "data": {
      "image/png": "[encoded data removed]",
      "text/plain": [
       "<Figure size 432x432 with 1 Axes>"
      ]
     },
     "metadata": {},
     "output_type": "display_data"
    }
   ],
   "source": [
    "import matplotlib.pyplot as plt\n",
    "from collections import Counter\n",
    "\n",
    "# Count sentiment labels\n",
    "sentiment_labels = [s['label'] for s in sentiments]\n",
    "counter = Counter(sentiment_labels)\n",
    "\n",
    "# Pie chart\n",
    "plt.figure(figsize=(6,6))\n",
    "plt.pie(counter.values(), labels=counter.keys(), autopct='%1.1f%%', startangle=140, colors=['green', 'red'])\n",
    "plt.title(\"Sentiment Distribution of Amazon Reviews\")\n",
    "plt.show()"
   ]
  },
  {
   "cell_type": "markdown",
   "metadata": {
    "id": "rMPwLSDacbhi"
   },
   "source": [
    "**Table Creation: Combine sentences/reviews and results**"
   ]
  },
  {
   "cell_type": "code",
   "execution_count": 11,
   "metadata": {
    "colab": {
     "base_uri": "https://localhost:8080/"
    },
    "id": "U5Q_BJyFcckc",
    "outputId": "5e8c6813-3944-44d4-8cdf-a6221faef22e"
   },
   "outputs": [
    {
     "name": "stdout",
     "output_type": "stream",
     "text": [
      "NER Results:\n",
      "                                            Sentence  \\\n",
      "0  Apple Inc. was founded by Steve Jobs in Cupert...   \n",
      "1  Barack Obama was the 44th President of the Uni...   \n",
      "2      The Eiffel Tower is located in Paris, France.   \n",
      "3        Google's headquarters are in Mountain View.   \n",
      "4    Elon Musk announced new Tesla models yesterday.   \n",
      "\n",
      "                                            Entities  \n",
      "0  Apple Inc (ORG), Steve Jobs (PER), Cupertino (...  \n",
      "1            Barack Obama (PER), United States (LOC)  \n",
      "2  E (LOC), ##iff (LOC), ##el Tower (LOC), Paris ...  \n",
      "3                  Google (ORG), Mountain View (LOC)  \n",
      "4                      Elon Musk (ORG), Tesla (MISC)   \n",
      "\n",
      "Sentiment Analysis Results:\n",
      "                                              Review Sentiment     Score\n",
      "0  This phone has an amazing camera and battery l...  POSITIVE  0.999806\n",
      "1      Terrible customer service, very disappointed.  NEGATIVE  0.999804\n",
      "2  The laptop is fast and lightweight, highly rec...  POSITIVE  0.999803\n",
      "3       Poor build quality, it broke within a month.  NEGATIVE  0.999416\n",
      "4    Excellent sound quality, great value for money.  POSITIVE  0.999873\n"
     ]
    }
   ],
   "source": [
    "import pandas as pd\n",
    "\n",
    "# NER results in a summary string format per sentence\n",
    "ner_summary = []\n",
    "for ents in entities_per_sentence:\n",
    "    ents_str = \", \".join([f\"{ent['word']} ({ent['entity_group']})\" for ent in ents])\n",
    "    ner_summary.append(ents_str)\n",
    "\n",
    "# Sentiment results as DataFrame\n",
    "sentiment_df = pd.DataFrame({\n",
    "    \"Review\": reviews,\n",
    "    \"Sentiment\": [s['label'] for s in sentiments],\n",
    "    \"Score\": [s['score'] for s in sentiments]\n",
    "})\n",
    "\n",
    "# NER results as DataFrame\n",
    "ner_df = pd.DataFrame({\n",
    "    \"Sentence\": sentences_ner,\n",
    "    \"Entities\": ner_summary\n",
    "})\n",
    "\n",
    "# Show first few rows\n",
    "print(\"NER Results:\")\n",
    "print(ner_df.head(), \"\\n\")\n",
    "\n",
    "print(\"Sentiment Analysis Results:\")\n",
    "print(sentiment_df.head())"
   ]
  },
  {
   "cell_type": "markdown",
   "metadata": {
    "id": "dd9l-MwnpdNI"
   },
   "source": [
    "# **4. Word Embeddings and Language Understanding (15%)**"
   ]
  },
  {
   "cell_type": "code",
   "execution_count": 12,
   "metadata": {
    "colab": {
     "base_uri": "https://localhost:8080/"
    },
    "id": "N-c1AWgwpkFh",
    "outputId": "830f1597-b4af-4e1b-8966-822d618e5d3e"
   },
   "outputs": [
    {
     "name": "stdout",
     "output_type": "stream",
     "text": [
      "Words similar to 'product': [('great', 0.1486244648694992), ('waste', 0.1117919310927391), ('looking', 0.10757596790790558), ('love', 0.09769199788570404), ('money', 0.08404716104269028)]\n"
     ]
    },
    {
     "name": "stderr",
     "output_type": "stream",
     "text": [
      "[nltk_data] Downloading package punkt to\n",
      "[nltk_data]     C:\\Users\\arunr\\AppData\\Roaming\\nltk_data...\n",
      "[nltk_data]   Package punkt is already up-to-date!\n",
      "[nltk_data] Downloading package stopwords to\n",
      "[nltk_data]     C:\\Users\\arunr\\AppData\\Roaming\\nltk_data...\n",
      "[nltk_data]   Package stopwords is already up-to-date!\n"
     ]
    }
   ],
   "source": [
    "from gensim.models import Word2Vec\n",
    "from nltk.tokenize import word_tokenize\n",
    "from nltk.corpus import stopwords\n",
    "import nltk\n",
    "nltk.download('punkt')\n",
    "nltk.download('stopwords')\n",
    "\n",
    "corpus = [\n",
    "    \"The product is great and works well.\",\n",
    "    \"I love this item. It was exactly what I expected.\",\n",
    "    \"Terrible quality. Completely disappointed.\",\n",
    "    \"Highly recommend this to anyone looking for good value.\",\n",
    "    \"Do not buy. Waste of money.\"\n",
    "]\n",
    "\n",
    "stop_words = set(stopwords.words('english'))\n",
    "tokenized_corpus = [[word.lower() for word in word_tokenize(doc) if word.isalpha() and word.lower() not in stop_words] for doc in corpus]\n",
    "\n",
    "model = Word2Vec(sentences=tokenized_corpus, vector_size=100, window=5, min_count=1, sg=1)  # sg=1: Skip-gram\n",
    "\n",
    "similar_words = model.wv.most_similar(\"product\", topn=5)\n",
    "print(\"Words similar to 'product':\", similar_words)"
   ]
  },
  {
   "cell_type": "markdown",
   "metadata": {
    "id": "cSO5XjbXrBio"
   },
   "source": [
    "# **5. Mini NLP Project: Text Classification (30%)**"
   ]
  },
  {
   "cell_type": "code",
   "execution_count": 13,
   "metadata": {
    "colab": {
     "base_uri": "https://localhost:8080/",
     "height": 628
    },
    "id": "UWSuR2LUrKzH",
    "outputId": "3ea6a9e0-baf9-4f13-ca8f-c8cf58ba76df"
   },
   "outputs": [
    {
     "name": "stdout",
     "output_type": "stream",
     "text": [
      "              precision    recall  f1-score   support\n",
      "\n",
      "           0       0.81      0.38      0.52       450\n",
      "           1       0.84      0.97      0.90      1550\n",
      "\n",
      "    accuracy                           0.84      2000\n",
      "   macro avg       0.83      0.68      0.71      2000\n",
      "weighted avg       0.84      0.84      0.82      2000\n",
      "\n"
     ]
    },
    {
     "data": {
      "image/png": "[encoded data removed]",
      "text/plain": [
       "<Figure size 432x288 with 2 Axes>"
      ]
     },
     "metadata": {
      "needs_background": "light"
     },
     "output_type": "display_data"
    }
   ],
   "source": [
    "import pandas as pd\n",
    "import numpy as np\n",
    "import matplotlib.pyplot as plt\n",
    "import seaborn as sns\n",
    "import re\n",
    "import string\n",
    "\n",
    "from sklearn.model_selection import train_test_split\n",
    "from sklearn.feature_extraction.text import TfidfVectorizer\n",
    "from sklearn.linear_model import LogisticRegression\n",
    "from sklearn.metrics import classification_report, confusion_matrix\n",
    "\n",
    "# Load dataset\n",
    "df = pd.read_csv(\"C:\\\\Users\\\\arunr\\\\Downloads\\\\Reviews.csv\")\n",
    "\n",
    "# Drop NA and reduce size\n",
    "df.dropna(subset=[\"Text\"], inplace=True)\n",
    "df = df.sample(n=10000, random_state=42)\n",
    "\n",
    "# Label: positive (Score >=4) = 1, negative (<4) = 0\n",
    "df[\"label\"] = df[\"Score\"].apply(lambda x: 1 if x >= 4 else 0)\n",
    "\n",
    "# Preprocessing function\n",
    "def clean_text(text):\n",
    "    text = text.lower()\n",
    "    text = re.sub(r\"http\\S+|www\\S+|https\\S+\", '', text, flags=re.MULTILINE)\n",
    "    text = re.sub(r'\\@\\w+|\\#','', text)\n",
    "    text = re.sub(r'[^\\w\\s]', '', text)\n",
    "    text = re.sub(r'\\d+', '', text)\n",
    "    return text\n",
    "\n",
    "df[\"clean_text\"] = df[\"Text\"].apply(clean_text)\n",
    "\n",
    "# Train-test split\n",
    "X_train, X_test, y_train, y_test = train_test_split(df[\"clean_text\"], df[\"label\"], test_size=0.2, random_state=42)\n",
    "\n",
    "# Vectorization\n",
    "vectorizer = TfidfVectorizer(max_features=5000)\n",
    "X_train_vec = vectorizer.fit_transform(X_train)\n",
    "X_test_vec = vectorizer.transform(X_test)\n",
    "\n",
    "# Logistic Regression\n",
    "model = LogisticRegression()\n",
    "model.fit(X_train_vec, y_train)\n",
    "\n",
    "# Predictions\n",
    "y_pred = model.predict(X_test_vec)\n",
    "\n",
    "# Evaluation\n",
    "print(classification_report(y_test, y_pred))\n",
    "\n",
    "# Confusion Matrix\n",
    "cm = confusion_matrix(y_test, y_pred)\n",
    "sns.heatmap(cm, annot=True, fmt='d', cmap='Blues')\n",
    "plt.title(\"Confusion Matrix\")\n",
    "plt.xlabel(\"Predicted\")\n",
    "plt.ylabel(\"Actual\")\n",
    "plt.show()\n"
   ]
  },
  {
   "cell_type": "code",
   "execution_count": 14,
   "metadata": {
    "colab": {
     "base_uri": "https://localhost:8080/",
     "height": 628
    },
    "id": "kBoE280KsH1Q",
    "outputId": "f1c2e9af-9961-4bd2-e79b-51d57327e82b"
   },
   "outputs": [
    {
     "name": "stdout",
     "output_type": "stream",
     "text": [
      "              precision    recall  f1-score   support\n",
      "\n",
      "           0       0.56      0.76      0.65       450\n",
      "           1       0.92      0.83      0.87      1550\n",
      "\n",
      "    accuracy                           0.81      2000\n",
      "   macro avg       0.74      0.79      0.76      2000\n",
      "weighted avg       0.84      0.81      0.82      2000\n",
      "\n"
     ]
    },
    {
     "data": {
      "image/png": "[encoded data removed]",
      "text/plain": [
       "<Figure size 432x288 with 2 Axes>"
      ]
     },
     "metadata": {
      "needs_background": "light"
     },
     "output_type": "display_data"
    }
   ],
   "source": [
    "from sklearn.utils.class_weight import compute_class_weight\n",
    "\n",
    "# Calculate class weights\n",
    "class_weights = compute_class_weight('balanced', classes=np.unique(y_train), y=y_train)\n",
    "class_weights_dict = {0: class_weights[0], 1: class_weights[1]}\n",
    "\n",
    "# Train Logistic Regression with class weights\n",
    "model_weighted = LogisticRegression(class_weight=class_weights_dict, max_iter=1000)\n",
    "model_weighted.fit(X_train_vec, y_train)\n",
    "\n",
    "# Predict and evaluate\n",
    "y_pred_weighted = model_weighted.predict(X_test_vec)\n",
    "\n",
    "from sklearn.metrics import classification_report, confusion_matrix\n",
    "print(classification_report(y_test, y_pred_weighted))\n",
    "\n",
    "cm_weighted = confusion_matrix(y_test, y_pred_weighted)\n",
    "sns.heatmap(cm_weighted, annot=True, fmt='d', cmap='Blues')\n",
    "plt.title(\"Confusion Matrix with Class Weights\")\n",
    "plt.xlabel(\"Predicted\")\n",
    "plt.ylabel(\"Actual\")\n",
    "plt.show()\n"
   ]
  },
  {
   "cell_type": "code",
   "execution_count": 15,
   "metadata": {
    "colab": {
     "base_uri": "https://localhost:8080/",
     "height": 839
    },
    "id": "kZWfVUnrubsQ",
    "outputId": "c92f106f-46cf-46f2-952a-fd8342586b97"
   },
   "outputs": [
    {
     "name": "stderr",
     "output_type": "stream",
     "text": [
      "Some weights of BertForSequenceClassification were not initialized from the model checkpoint at bert-base-uncased and are newly initialized: ['classifier.bias', 'classifier.weight']\n",
      "You should probably TRAIN this model on a down-stream task to be able to use it for predictions and inference.\n"
     ]
    },
    {
     "data": {
      "text/html": [
       "\n",
       "    <div>\n",
       "      \n",
       "      <progress value='100' max='100' style='width:300px; height:20px; vertical-align: middle;'></progress>\n",
       "      [100/100 09:50, Epoch 1/1]\n",
       "    </div>\n",
       "    <table border=\"1\" class=\"dataframe\">\n",
       "  <thead>\n",
       " <tr style=\"text-align: left;\">\n",
       "      <th>Step</th>\n",
       "      <th>Training Loss</th>\n",
       "    </tr>\n",
       "  </thead>\n",
       "  <tbody>\n",
       "    <tr>\n",
       "      <td>50</td>\n",
       "      <td>0.452900</td>\n",
       "    </tr>\n",
       "    <tr>\n",
       "      <td>100</td>\n",
       "      <td>0.326600</td>\n",
       "    </tr>\n",
       "  </tbody>\n",
       "</table><p>"
      ],
      "text/plain": [
       "<IPython.core.display.HTML object>"
      ]
     },
     "metadata": {},
     "output_type": "display_data"
    },
    {
     "data": {
      "text/html": [],
      "text/plain": [
       "<IPython.core.display.HTML object>"
      ]
     },
     "metadata": {},
     "output_type": "display_data"
    },
    {
     "name": "stdout",
     "output_type": "stream",
     "text": [
      "Evaluation results: {'eval_loss': 0.3227452337741852, 'eval_runtime': 36.2224, 'eval_samples_per_second': 11.043, 'eval_steps_per_second': 0.69, 'epoch': 1.0}\n",
      "=== Classification Report ===\n",
      "              precision    recall  f1-score   support\n",
      "\n",
      "           0       0.71      0.74      0.73       101\n",
      "           1       0.91      0.90      0.91       299\n",
      "\n",
      "    accuracy                           0.86       400\n",
      "   macro avg       0.81      0.82      0.82       400\n",
      "weighted avg       0.86      0.86      0.86       400\n",
      "\n"
     ]
    },
    {
     "data": {
      "image/png": "[encoded data removed]",
      "text/plain": [
       "<Figure size 432x288 with 2 Axes>"
      ]
     },
     "metadata": {
      "needs_background": "light"
     },
     "output_type": "display_data"
    }
   ],
   "source": [
    "\n",
    "import pandas as pd\n",
    "import re\n",
    "import numpy as np\n",
    "import seaborn as sns\n",
    "import matplotlib.pyplot as plt\n",
    "from sklearn.model_selection import train_test_split\n",
    "from sklearn.metrics import classification_report, confusion_matrix\n",
    "\n",
    "from transformers import BertTokenizerFast, BertForSequenceClassification, Trainer, TrainingArguments\n",
    "from datasets import Dataset\n",
    "\n",
    "#  Load and preprocess dataset\n",
    "df = pd.read_csv(\"C:\\\\Users\\\\arunr\\\\Downloads\\\\Reviews.csv\")\n",
    "df = df.dropna(subset=['Text']).sample(n=2000, random_state=42)\n",
    "df['label'] = (df['Score'] >= 4).astype(int)\n",
    "\n",
    "def clean_text(text):\n",
    "    text = re.sub(r'\\d+', '', text)\n",
    "    text = re.sub(r'http\\S+', '', text)\n",
    "    text = re.sub(r'[^\\w\\s]', '', text)\n",
    "    return text.lower()\n",
    "\n",
    "df['clean_text'] = df['Text'].apply(clean_text)\n",
    "\n",
    "#  Train-test split\n",
    "train_texts, test_texts, train_labels, test_labels = train_test_split(\n",
    "    df['clean_text'], df['label'], test_size=0.2, random_state=42\n",
    ")\n",
    "\n",
    "#  Tokenization using BERT tokenizer (fast)\n",
    "tokenizer = BertTokenizerFast.from_pretrained('bert-base-uncased')\n",
    "\n",
    "train_encodings = tokenizer(list(train_texts), truncation=True, padding=True, max_length=128)\n",
    "test_encodings = tokenizer(list(test_texts), truncation=True, padding=True, max_length=128)\n",
    "\n",
    "#  Create Huggingface datasets\n",
    "train_dataset = Dataset.from_dict({\n",
    "    'input_ids': train_encodings['input_ids'],\n",
    "    'attention_mask': train_encodings['attention_mask'],\n",
    "    'labels': list(train_labels)\n",
    "})\n",
    "\n",
    "test_dataset = Dataset.from_dict({\n",
    "    'input_ids': test_encodings['input_ids'],\n",
    "    'attention_mask': test_encodings['attention_mask'],\n",
    "    'labels': list(test_labels)\n",
    "})\n",
    "\n",
    "#  Load BERT model for sequence classification\n",
    "model = BertForSequenceClassification.from_pretrained('bert-base-uncased', num_labels=2)\n",
    "\n",
    "#  Define training arguments \n",
    "training_args = TrainingArguments(\n",
    "    output_dir='./results',\n",
    "    num_train_epochs=1,              \n",
    "    per_device_train_batch_size=16,\n",
    "    per_device_eval_batch_size=16,\n",
    "    logging_steps=50,\n",
    "    save_strategy='no',\n",
    "    report_to='none',\n",
    "    disable_tqdm=False,\n",
    ")\n",
    "#  Initialize Trainer\n",
    "trainer = Trainer(\n",
    "    model=model,\n",
    "    args=training_args,\n",
    "    train_dataset=train_dataset,\n",
    "    eval_dataset=test_dataset,\n",
    ")\n",
    "\n",
    "#  Train the model\n",
    "trainer.train()\n",
    "\n",
    "#  Evaluate model manually after training\n",
    "eval_results = trainer.evaluate()\n",
    "print(f\"Evaluation results: {eval_results}\")\n",
    "\n",
    "#  Predict on test set\n",
    "preds_output = trainer.predict(test_dataset)\n",
    "preds = np.argmax(preds_output.predictions, axis=1)\n",
    "\n",
    "print(\"=== Classification Report ===\")\n",
    "print(classification_report(test_labels, preds))\n",
    "\n",
    "cm = confusion_matrix(test_labels, preds)\n",
    "sns.heatmap(cm, annot=True, fmt='d', cmap='Blues')\n",
    "plt.xlabel('Predicted Label')\n",
    "plt.ylabel('True Label')\n",
    "plt.title('Confusion Matrix - BERT Text Classification')\n",
    "plt.show()\n"
   ]
  }
 ],
 "metadata": {
  "colab": {
   "provenance": []
  },
  "kernelspec": {
   "display_name": "Python 3 (ipykernel)",
   "language": "python",
   "name": "python3"
  },
  "language_info": {
   "codemirror_mode": {
    "name": "ipython",
    "version": 3
   },
   "file_extension": ".py",
   "mimetype": "text/x-python",
   "name": "python",
   "nbconvert_exporter": "python",
   "pygments_lexer": "ipython3",
   "version": "3.9.12"
  }
 },
 "nbformat": 4,
 "nbformat_minor": 1
}
